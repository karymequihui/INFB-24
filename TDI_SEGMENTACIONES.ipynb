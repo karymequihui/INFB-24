{
  "nbformat": 4,
  "nbformat_minor": 0,
  "metadata": {
    "colab": {
      "provenance": []
    },
    "kernelspec": {
      "name": "python3",
      "display_name": "Python 3"
    },
    "language_info": {
      "name": "python"
    }
  },
  "cells": [
    {
      "cell_type": "code",
      "execution_count": null,
      "metadata": {
        "colab": {
          "base_uri": "https://localhost:8080/"
        },
        "id": "hpWTpxFgdDOW",
        "outputId": "87114c90-2d73-43bd-8b72-dda126a5d943"
      },
      "outputs": [
        {
          "output_type": "stream",
          "name": "stdout",
          "text": [
            "Mounted at /content/drive\n"
          ]
        }
      ],
      "source": [
        "from google.colab import drive\n",
        "drive.mount('/content/drive')"
      ]
    },
    {
      "cell_type": "code",
      "source": [
        "import zipfile\n",
        "from google.colab import drive\n",
        "\n",
        "# Mount Google Drive (if not already mounted)\n",
        "drive.mount('/content/drive')\n",
        "\n",
        "# Fix the path to the zip file - Remove the extra //content\n",
        "zip_path = '/content/drive/MyDrive/Colab Notebooks/descargas_kaggle/Segmentaciones.zip'\n",
        "extract_path = '/content/dataset'  # Carpeta de destino\n",
        "\n",
        "# Extraer\n",
        "with zipfile.ZipFile(zip_path, 'r') as zip_ref:\n",
        "    zip_ref.extractall(extract_path)\n",
        "\n",
        "# Comprobar contenido\n",
        "import os\n",
        "os.listdir(extract_path)"
      ],
      "metadata": {
        "colab": {
          "base_uri": "https://localhost:8080/"
        },
        "id": "E7yFepy5dP4s",
        "outputId": "43a0076f-00c4-43c4-976b-9213040faff8"
      },
      "execution_count": null,
      "outputs": [
        {
          "output_type": "stream",
          "name": "stdout",
          "text": [
            "Drive already mounted at /content/drive; to attempt to forcibly remount, call drive.mount(\"/content/drive\", force_remount=True).\n"
          ]
        },
        {
          "output_type": "execute_result",
          "data": {
            "text/plain": [
              "['Segmentaciones']"
            ]
          },
          "metadata": {},
          "execution_count": 2
        }
      ]
    },
    {
      "cell_type": "code",
      "source": [
        "# Comprobar el contenido de la carpeta \"dataset\"\n",
        "dataset_contents = os.listdir(\"/content/dataset\")\n",
        "print(f\"Contents of /content/dataset: {dataset_contents}\")"
      ],
      "metadata": {
        "colab": {
          "base_uri": "https://localhost:8080/"
        },
        "id": "Aodd-Ti4ejeB",
        "outputId": "4f85f436-6ecf-4422-8ed6-576d5f810b63"
      },
      "execution_count": null,
      "outputs": [
        {
          "output_type": "stream",
          "name": "stdout",
          "text": [
            "Contents of /content/dataset: ['Segmentaciones']\n"
          ]
        }
      ]
    },
    {
      "cell_type": "code",
      "source": [
        "# Comprobar el contenido de la carpeta \"dataset\"\n",
        "dataset_contents = os.listdir(\"/content/dataset\")\n",
        "print(f\"Contents of /content/dataset: {dataset_contents}\")"
      ],
      "metadata": {
        "colab": {
          "base_uri": "https://localhost:8080/"
        },
        "id": "KyHioXQ4eq0z",
        "outputId": "2c19e28c-688c-47ad-8072-641886cc6fdb"
      },
      "execution_count": null,
      "outputs": [
        {
          "output_type": "stream",
          "name": "stdout",
          "text": [
            "Contents of /content/dataset: ['Segmentaciones']\n"
          ]
        }
      ]
    },
    {
      "cell_type": "code",
      "source": [
        "# Comprobar el contenido de \"Segmentaciones\"\n",
        "segmentaciones_contents = os.listdir(\"/content/dataset/Segmentaciones\")\n",
        "print(f\"Contents of /content/dataset/Segmentaciones: {segmentaciones_contents}\")"
      ],
      "metadata": {
        "colab": {
          "base_uri": "https://localhost:8080/"
        },
        "id": "7lqSHjPufFrE",
        "outputId": "812cad81-1be2-4a6d-d057-b7782490747a"
      },
      "execution_count": null,
      "outputs": [
        {
          "output_type": "stream",
          "name": "stdout",
          "text": [
            "Contents of /content/dataset/Segmentaciones: ['a. Training Set', 'b. Testing Set']\n"
          ]
        }
      ]
    },
    {
      "cell_type": "code",
      "source": [
        "data_dir = \"/content/dataset/Segmentaciones/a. Training Set\""
      ],
      "metadata": {
        "id": "V4HuF-UofK71"
      },
      "execution_count": null,
      "outputs": []
    },
    {
      "cell_type": "code",
      "source": [
        "import numpy as np\n",
        "import cv2\n",
        "import os\n",
        "\n",
        "data_dir = \"/content/dataset/Segmentaciones/a. Training Set\"\n",
        "sub_folders = os.listdir(data_dir)\n",
        "print(len(sub_folders))"
      ],
      "metadata": {
        "colab": {
          "base_uri": "https://localhost:8080/"
        },
        "id": "nOrp3g-kdUXY",
        "outputId": "0e77c302-248f-4b70-df1c-a89ced81856e"
      },
      "execution_count": null,
      "outputs": [
        {
          "output_type": "stream",
          "name": "stdout",
          "text": [
            "5\n"
          ]
        }
      ]
    },
    {
      "cell_type": "code",
      "source": [
        "images = []\n",
        "labels = []"
      ],
      "metadata": {
        "id": "4141digdfaPH"
      },
      "execution_count": null,
      "outputs": []
    },
    {
      "cell_type": "markdown",
      "source": [
        "# **Preprocesamiento**"
      ],
      "metadata": {
        "id": "jCmiDCwsfdu0"
      }
    },
    {
      "cell_type": "code",
      "source": [
        "for sub_folder in sub_folders:\n",
        "    label = sub_folder\n",
        "\n",
        "    # Constructing the path to the current sub_folder\n",
        "    path = os.path.join(data_dir, sub_folder)\n",
        "\n",
        "    # Listing all the images in the sub_folder\n",
        "    sub_folder_images = os.listdir(path)\n",
        "\n",
        "    for image_name in sub_folder_images:\n",
        "        image_path = os.path.join(path, image_name)\n",
        "\n",
        "        # Loading the image using OpenCV\n",
        "        img = cv2.imread(image_path)\n",
        "\n",
        "        # Convert the image to grayscale\n",
        "        gray_img = cv2.cvtColor(img, cv2.COLOR_BGR2GRAY)\n",
        "\n",
        "        # Resize the image to (256, 256 )\n",
        "        resized_img = cv2.resize(gray_img, (256, 256))\n",
        "\n",
        "        # Append the images to the image list\n",
        "        images.append(resized_img)\n",
        "\n",
        "        # Append the labels\n",
        "        labels.append(label)"
      ],
      "metadata": {
        "id": "rPIFIts9faON"
      },
      "execution_count": null,
      "outputs": []
    },
    {
      "cell_type": "code",
      "source": [
        "import matplotlib.pyplot as plt\n",
        "plt.imshow(resized_img, cmap='gray')"
      ],
      "metadata": {
        "colab": {
          "base_uri": "https://localhost:8080/",
          "height": 452
        },
        "id": "XIbbendLdUWj",
        "outputId": "e57d20e7-2789-4530-bf01-58e5ba45b81f"
      },
      "execution_count": null,
      "outputs": [
        {
          "output_type": "execute_result",
          "data": {
            "text/plain": [
              "<matplotlib.image.AxesImage at 0x7bdec520a140>"
            ]
          },
          "metadata": {},
          "execution_count": 18
        },
        {
          "output_type": "display_data",
          "data": {
            "text/plain": [
              "<Figure size 640x480 with 1 Axes>"
            ],
            "image/png": "[encoded data removed]"
          },
          "metadata": {}
        }
      ]
    },
    {
      "cell_type": "code",
      "source": [
        "images = np.array(images)\n",
        "labels = np.array(labels)"
      ],
      "metadata": {
        "id": "PM1FsQElg5wj"
      },
      "execution_count": null,
      "outputs": []
    },
    {
      "cell_type": "code",
      "source": [
        "img_resized = cv2.resize(resized_img, (256,256), )\n",
        "img_resized = cv2.bitwise_not(img_resized)"
      ],
      "metadata": {
        "id": "qM5q-t79g9fi"
      },
      "execution_count": null,
      "outputs": []
    },
    {
      "cell_type": "code",
      "source": [
        "import os\n",
        "\n",
        "# Ruta del directorio\n",
        "Numeros = '/content/segmentacion'\n",
        "\n",
        "# Crear el directorio si no existe\n",
        "os.makedirs(Numeros, exist_ok=True)\n",
        "\n",
        "# Mostrar y guardar la imagen\n",
        "plt.imshow(img_resized, cmap='gray')\n",
        "plt.savefig(os.path.join(Numeros, \"abc.png\"))  # Guardar en el directorio creado\n"
      ],
      "metadata": {
        "colab": {
          "base_uri": "https://localhost:8080/",
          "height": 435
        },
        "id": "lKRm3J5ThBPz",
        "outputId": "661ed01c-739e-43ef-a0ab-d3052094bc59"
      },
      "execution_count": null,
      "outputs": [
        {
          "output_type": "display_data",
          "data": {
            "text/plain": [
              "<Figure size 640x480 with 1 Axes>"
            ],
            "image/png": "[encoded data removed]"
          },
          "metadata": {}
        }
      ]
    },
    {
      "cell_type": "code",
      "source": [
        "train_dir = \"/content/dataset/Segmentaciones/a. Training Set\""
      ],
      "metadata": {
        "id": "4ejmeBFmhrZ3"
      },
      "execution_count": null,
      "outputs": []
    },
    {
      "cell_type": "code",
      "source": [
        "test_dir = \"/content/dataset/Segmentaciones/b. Test Set\""
      ],
      "metadata": {
        "id": "c3gKh7lZhzza"
      },
      "execution_count": null,
      "outputs": []
    },
    {
      "cell_type": "code",
      "source": [
        "images = np.array(images)\n",
        "labels = np.array(labels)"
      ],
      "metadata": {
        "id": "HVGdpzLfiAb5"
      },
      "execution_count": null,
      "outputs": []
    },
    {
      "cell_type": "code",
      "source": [
        "!pip install scikit-learn"
      ],
      "metadata": {
        "colab": {
          "base_uri": "https://localhost:8080/"
        },
        "id": "gJUzhnAliCWf",
        "outputId": "742d6efa-1573-4457-b594-023f608dac43"
      },
      "execution_count": null,
      "outputs": [
        {
          "output_type": "stream",
          "name": "stdout",
          "text": [
            "Requirement already satisfied: scikit-learn in /usr/local/lib/python3.10/dist-packages (1.5.2)\n",
            "Requirement already satisfied: numpy>=1.19.5 in /usr/local/lib/python3.10/dist-packages (from scikit-learn) (1.26.4)\n",
            "Requirement already satisfied: scipy>=1.6.0 in /usr/local/lib/python3.10/dist-packages (from scikit-learn) (1.13.1)\n",
            "Requirement already satisfied: joblib>=1.2.0 in /usr/local/lib/python3.10/dist-packages (from scikit-learn) (1.4.2)\n",
            "Requirement already satisfied: threadpoolctl>=3.1.0 in /usr/local/lib/python3.10/dist-packages (from scikit-learn) (3.5.0)\n"
          ]
        }
      ]
    },
    {
      "cell_type": "code",
      "source": [
        "# Importar train_test_split\n",
        "from sklearn.model_selection import train_test_split"
      ],
      "metadata": {
        "id": "HP1yebIaiVL9"
      },
      "execution_count": null,
      "outputs": []
    },
    {
      "cell_type": "code",
      "source": [
        "# Dividir los datos en conjuntos de entrenamiento y prueba\n",
        "train_images, test_images, train_labels, test_labels = train_test_split(images, labels, test_size=0.2, random_state=42)"
      ],
      "metadata": {
        "id": "uc8cycdRiadL"
      },
      "execution_count": null,
      "outputs": []
    },
    {
      "cell_type": "code",
      "source": [
        "# Preprocessing: visualization of variables and image normalization.\n",
        "train_images.shape"
      ],
      "metadata": {
        "colab": {
          "base_uri": "https://localhost:8080/"
        },
        "id": "KlhGT4EOieQo",
        "outputId": "a5b54d3e-0d4d-4ead-aba6-fc89517c0ef9"
      },
      "execution_count": null,
      "outputs": [
        {
          "output_type": "execute_result",
          "data": {
            "text/plain": [
              "(406, 256, 256)"
            ]
          },
          "metadata": {},
          "execution_count": 30
        }
      ]
    },
    {
      "cell_type": "code",
      "source": [
        "len(train_labels)"
      ],
      "metadata": {
        "colab": {
          "base_uri": "https://localhost:8080/"
        },
        "id": "diuRKETcig1k",
        "outputId": "dea48b8b-759f-42df-dd70-0a26c138feaa"
      },
      "execution_count": null,
      "outputs": [
        {
          "output_type": "execute_result",
          "data": {
            "text/plain": [
              "406"
            ]
          },
          "metadata": {},
          "execution_count": 31
        }
      ]
    },
    {
      "cell_type": "code",
      "source": [
        "train_labels"
      ],
      "metadata": {
        "colab": {
          "base_uri": "https://localhost:8080/"
        },
        "id": "jsQI48C6ijqV",
        "outputId": "335f21b0-625a-4871-ba3b-ce7f50484a48"
      },
      "execution_count": null,
      "outputs": [
        {
          "output_type": "execute_result",
          "data": {
            "text/plain": [
              "array(['3. Hard Exudates', '3. Hard Exudates', '2. Haemorrhages',\n",
              "       '5. Optic Disc', '5. Optic Disc', '5. Optic Disc',\n",
              "       '3. Hard Exudates', '4. Soft Exudates', '4. Soft Exudates',\n",
              "       '2. Haemorrhages', '1. Microaneurysms', '1. Microaneurysms',\n",
              "       '2. Haemorrhages', '3. Hard Exudates', '1. Microaneurysms',\n",
              "       '4. Soft Exudates', '4. Soft Exudates', '4. Soft Exudates',\n",
              "       '5. Optic Disc', '2. Haemorrhages', '2. Haemorrhages',\n",
              "       '4. Soft Exudates', '3. Hard Exudates', '2. Haemorrhages',\n",
              "       '5. Optic Disc', '3. Hard Exudates', '1. Microaneurysms',\n",
              "       '1. Microaneurysms', '1. Microaneurysms', '3. Hard Exudates',\n",
              "       '5. Optic Disc', '1. Microaneurysms', '3. Hard Exudates',\n",
              "       '2. Haemorrhages', '1. Microaneurysms', '3. Hard Exudates',\n",
              "       '3. Hard Exudates', '5. Optic Disc', '4. Soft Exudates',\n",
              "       '4. Soft Exudates', '3. Hard Exudates', '1. Microaneurysms',\n",
              "       '1. Microaneurysms', '1. Microaneurysms', '4. Soft Exudates',\n",
              "       '1. Microaneurysms', '3. Hard Exudates', '4. Soft Exudates',\n",
              "       '1. Microaneurysms', '5. Optic Disc', '1. Microaneurysms',\n",
              "       '4. Soft Exudates', '2. Haemorrhages', '4. Soft Exudates',\n",
              "       '1. Microaneurysms', '3. Hard Exudates', '1. Microaneurysms',\n",
              "       '2. Haemorrhages', '1. Microaneurysms', '2. Haemorrhages',\n",
              "       '3. Hard Exudates', '1. Microaneurysms', '3. Hard Exudates',\n",
              "       '5. Optic Disc', '4. Soft Exudates', '3. Hard Exudates',\n",
              "       '4. Soft Exudates', '1. Microaneurysms', '1. Microaneurysms',\n",
              "       '2. Haemorrhages', '5. Optic Disc', '1. Microaneurysms',\n",
              "       '1. Microaneurysms', '2. Haemorrhages', '3. Hard Exudates',\n",
              "       '1. Microaneurysms', '3. Hard Exudates', '2. Haemorrhages',\n",
              "       '3. Hard Exudates', '3. Hard Exudates', '5. Optic Disc',\n",
              "       '1. Microaneurysms', '5. Optic Disc', '3. Hard Exudates',\n",
              "       '3. Hard Exudates', '5. Optic Disc', '5. Optic Disc',\n",
              "       '2. Haemorrhages', '2. Haemorrhages', '5. Optic Disc',\n",
              "       '3. Hard Exudates', '3. Hard Exudates', '4. Soft Exudates',\n",
              "       '2. Haemorrhages', '5. Optic Disc', '2. Haemorrhages',\n",
              "       '3. Hard Exudates', '2. Haemorrhages', '5. Optic Disc',\n",
              "       '1. Microaneurysms', '3. Hard Exudates', '3. Hard Exudates',\n",
              "       '3. Hard Exudates', '4. Soft Exudates', '3. Hard Exudates',\n",
              "       '2. Haemorrhages', '1. Microaneurysms', '4. Soft Exudates',\n",
              "       '1. Microaneurysms', '5. Optic Disc', '5. Optic Disc',\n",
              "       '5. Optic Disc', '4. Soft Exudates', '4. Soft Exudates',\n",
              "       '4. Soft Exudates', '1. Microaneurysms', '2. Haemorrhages',\n",
              "       '3. Hard Exudates', '2. Haemorrhages', '5. Optic Disc',\n",
              "       '1. Microaneurysms', '3. Hard Exudates', '5. Optic Disc',\n",
              "       '4. Soft Exudates', '5. Optic Disc', '4. Soft Exudates',\n",
              "       '3. Hard Exudates', '1. Microaneurysms', '1. Microaneurysms',\n",
              "       '5. Optic Disc', '3. Hard Exudates', '3. Hard Exudates',\n",
              "       '2. Haemorrhages', '3. Hard Exudates', '1. Microaneurysms',\n",
              "       '4. Soft Exudates', '3. Hard Exudates', '4. Soft Exudates',\n",
              "       '4. Soft Exudates', '1. Microaneurysms', '3. Hard Exudates',\n",
              "       '3. Hard Exudates', '4. Soft Exudates', '3. Hard Exudates',\n",
              "       '3. Hard Exudates', '5. Optic Disc', '3. Hard Exudates',\n",
              "       '5. Optic Disc', '1. Microaneurysms', '1. Microaneurysms',\n",
              "       '3. Hard Exudates', '4. Soft Exudates', '4. Soft Exudates',\n",
              "       '1. Microaneurysms', '4. Soft Exudates', '5. Optic Disc',\n",
              "       '1. Microaneurysms', '3. Hard Exudates', '3. Hard Exudates',\n",
              "       '3. Hard Exudates', '4. Soft Exudates', '1. Microaneurysms',\n",
              "       '3. Hard Exudates', '3. Hard Exudates', '4. Soft Exudates',\n",
              "       '3. Hard Exudates', '1. Microaneurysms', '2. Haemorrhages',\n",
              "       '4. Soft Exudates', '3. Hard Exudates', '3. Hard Exudates',\n",
              "       '5. Optic Disc', '5. Optic Disc', '1. Microaneurysms',\n",
              "       '5. Optic Disc', '4. Soft Exudates', '3. Hard Exudates',\n",
              "       '4. Soft Exudates', '5. Optic Disc', '1. Microaneurysms',\n",
              "       '3. Hard Exudates', '2. Haemorrhages', '2. Haemorrhages',\n",
              "       '5. Optic Disc', '2. Haemorrhages', '3. Hard Exudates',\n",
              "       '5. Optic Disc', '5. Optic Disc', '4. Soft Exudates',\n",
              "       '3. Hard Exudates', '5. Optic Disc', '2. Haemorrhages',\n",
              "       '4. Soft Exudates', '4. Soft Exudates', '3. Hard Exudates',\n",
              "       '3. Hard Exudates', '3. Hard Exudates', '5. Optic Disc',\n",
              "       '4. Soft Exudates', '5. Optic Disc', '4. Soft Exudates',\n",
              "       '2. Haemorrhages', '3. Hard Exudates', '2. Haemorrhages',\n",
              "       '5. Optic Disc', '5. Optic Disc', '3. Hard Exudates',\n",
              "       '5. Optic Disc', '1. Microaneurysms', '2. Haemorrhages',\n",
              "       '3. Hard Exudates', '3. Hard Exudates', '3. Hard Exudates',\n",
              "       '2. Haemorrhages', '5. Optic Disc', '4. Soft Exudates',\n",
              "       '3. Hard Exudates', '1. Microaneurysms', '5. Optic Disc',\n",
              "       '4. Soft Exudates', '3. Hard Exudates', '4. Soft Exudates',\n",
              "       '3. Hard Exudates', '3. Hard Exudates', '1. Microaneurysms',\n",
              "       '2. Haemorrhages', '4. Soft Exudates', '1. Microaneurysms',\n",
              "       '4. Soft Exudates', '1. Microaneurysms', '5. Optic Disc',\n",
              "       '5. Optic Disc', '3. Hard Exudates', '1. Microaneurysms',\n",
              "       '1. Microaneurysms', '1. Microaneurysms', '5. Optic Disc',\n",
              "       '3. Hard Exudates', '5. Optic Disc', '3. Hard Exudates',\n",
              "       '2. Haemorrhages', '4. Soft Exudates', '1. Microaneurysms',\n",
              "       '1. Microaneurysms', '3. Hard Exudates', '3. Hard Exudates',\n",
              "       '5. Optic Disc', '1. Microaneurysms', '5. Optic Disc',\n",
              "       '3. Hard Exudates', '5. Optic Disc', '1. Microaneurysms',\n",
              "       '1. Microaneurysms', '5. Optic Disc', '1. Microaneurysms',\n",
              "       '1. Microaneurysms', '2. Haemorrhages', '4. Soft Exudates',\n",
              "       '2. Haemorrhages', '5. Optic Disc', '5. Optic Disc',\n",
              "       '5. Optic Disc', '5. Optic Disc', '4. Soft Exudates',\n",
              "       '4. Soft Exudates', '5. Optic Disc', '4. Soft Exudates',\n",
              "       '1. Microaneurysms', '1. Microaneurysms', '1. Microaneurysms',\n",
              "       '4. Soft Exudates', '5. Optic Disc', '5. Optic Disc',\n",
              "       '1. Microaneurysms', '3. Hard Exudates', '2. Haemorrhages',\n",
              "       '1. Microaneurysms', '3. Hard Exudates', '1. Microaneurysms',\n",
              "       '5. Optic Disc', '5. Optic Disc', '3. Hard Exudates',\n",
              "       '4. Soft Exudates', '3. Hard Exudates', '3. Hard Exudates',\n",
              "       '2. Haemorrhages', '1. Microaneurysms', '4. Soft Exudates',\n",
              "       '2. Haemorrhages', '4. Soft Exudates', '4. Soft Exudates',\n",
              "       '1. Microaneurysms', '3. Hard Exudates', '1. Microaneurysms',\n",
              "       '3. Hard Exudates', '2. Haemorrhages', '5. Optic Disc',\n",
              "       '2. Haemorrhages', '1. Microaneurysms', '5. Optic Disc',\n",
              "       '5. Optic Disc', '4. Soft Exudates', '2. Haemorrhages',\n",
              "       '5. Optic Disc', '5. Optic Disc', '4. Soft Exudates',\n",
              "       '2. Haemorrhages', '1. Microaneurysms', '2. Haemorrhages',\n",
              "       '2. Haemorrhages', '4. Soft Exudates', '3. Hard Exudates',\n",
              "       '1. Microaneurysms', '5. Optic Disc', '3. Hard Exudates',\n",
              "       '1. Microaneurysms', '2. Haemorrhages', '5. Optic Disc',\n",
              "       '5. Optic Disc', '4. Soft Exudates', '1. Microaneurysms',\n",
              "       '4. Soft Exudates', '1. Microaneurysms', '3. Hard Exudates',\n",
              "       '1. Microaneurysms', '5. Optic Disc', '2. Haemorrhages',\n",
              "       '1. Microaneurysms', '5. Optic Disc', '4. Soft Exudates',\n",
              "       '5. Optic Disc', '1. Microaneurysms', '5. Optic Disc',\n",
              "       '1. Microaneurysms', '5. Optic Disc', '3. Hard Exudates',\n",
              "       '4. Soft Exudates', '4. Soft Exudates', '2. Haemorrhages',\n",
              "       '1. Microaneurysms', '4. Soft Exudates', '1. Microaneurysms',\n",
              "       '1. Microaneurysms', '1. Microaneurysms', '4. Soft Exudates',\n",
              "       '4. Soft Exudates', '3. Hard Exudates', '1. Microaneurysms',\n",
              "       '5. Optic Disc', '4. Soft Exudates', '2. Haemorrhages',\n",
              "       '3. Hard Exudates', '4. Soft Exudates', '2. Haemorrhages',\n",
              "       '4. Soft Exudates', '1. Microaneurysms', '4. Soft Exudates',\n",
              "       '3. Hard Exudates', '1. Microaneurysms', '2. Haemorrhages',\n",
              "       '5. Optic Disc', '5. Optic Disc', '5. Optic Disc',\n",
              "       '2. Haemorrhages', '2. Haemorrhages', '5. Optic Disc',\n",
              "       '5. Optic Disc', '4. Soft Exudates', '1. Microaneurysms',\n",
              "       '4. Soft Exudates', '2. Haemorrhages', '1. Microaneurysms',\n",
              "       '1. Microaneurysms', '4. Soft Exudates', '2. Haemorrhages',\n",
              "       '3. Hard Exudates', '1. Microaneurysms', '5. Optic Disc',\n",
              "       '5. Optic Disc', '3. Hard Exudates', '4. Soft Exudates',\n",
              "       '5. Optic Disc', '4. Soft Exudates', '1. Microaneurysms',\n",
              "       '4. Soft Exudates', '3. Hard Exudates', '3. Hard Exudates',\n",
              "       '3. Hard Exudates', '3. Hard Exudates', '4. Soft Exudates',\n",
              "       '3. Hard Exudates', '4. Soft Exudates', '2. Haemorrhages',\n",
              "       '4. Soft Exudates', '5. Optic Disc', '2. Haemorrhages',\n",
              "       '3. Hard Exudates', '2. Haemorrhages', '1. Microaneurysms',\n",
              "       '5. Optic Disc', '4. Soft Exudates', '4. Soft Exudates',\n",
              "       '1. Microaneurysms', '3. Hard Exudates', '5. Optic Disc',\n",
              "       '4. Soft Exudates'], dtype='<U17')"
            ]
          },
          "metadata": {},
          "execution_count": 32
        }
      ]
    },
    {
      "cell_type": "code",
      "source": [
        "test_images.shape"
      ],
      "metadata": {
        "colab": {
          "base_uri": "https://localhost:8080/"
        },
        "id": "lvZyPx8dipN1",
        "outputId": "940c69a6-0bfb-4601-f443-84d46fbb3725"
      },
      "execution_count": null,
      "outputs": [
        {
          "output_type": "execute_result",
          "data": {
            "text/plain": [
              "(102, 256, 256)"
            ]
          },
          "metadata": {},
          "execution_count": 33
        }
      ]
    },
    {
      "cell_type": "code",
      "source": [
        "len(test_labels)"
      ],
      "metadata": {
        "colab": {
          "base_uri": "https://localhost:8080/"
        },
        "id": "WF2FAOdLisP0",
        "outputId": "3499949a-03fd-4574-9cf4-7782c5bb0b2e"
      },
      "execution_count": null,
      "outputs": [
        {
          "output_type": "execute_result",
          "data": {
            "text/plain": [
              "102"
            ]
          },
          "metadata": {},
          "execution_count": 34
        }
      ]
    },
    {
      "cell_type": "code",
      "source": [
        "# Normalization of pixel values.\n",
        "train_images = train_images / 255.0\n",
        "test_images = test_images / 255.0"
      ],
      "metadata": {
        "id": "4u52XkxuivM7"
      },
      "execution_count": null,
      "outputs": []
    },
    {
      "cell_type": "markdown",
      "source": [
        "# **Estructura y entrenamiento de la Red Neuronal Artificial Convolucional (CNN)**"
      ],
      "metadata": {
        "id": "aEOHD_bDizRN"
      }
    },
    {
      "cell_type": "code",
      "source": [
        "from tensorflow.keras import models, layers\n",
        "model = models.Sequential()"
      ],
      "metadata": {
        "id": "4HQafFNljCnz"
      },
      "execution_count": null,
      "outputs": []
    },
    {
      "cell_type": "code",
      "source": [
        "# Convolutional part\n",
        "model = models.Sequential()\n",
        "layers.Conv2D(32, (3, 3), activation='relu', input_shape=(150, 150, 3)),\n",
        "layers.MaxPooling2D((2, 2)),\n",
        "layers.Conv2D(64, (3, 3), activation='relu'),\n",
        "layers.MaxPooling2D((2, 2)),\n",
        "layers.Conv2D(128, (3, 3), activation='relu'),\n",
        "layers.MaxPooling2D((2, 2)),"
      ],
      "metadata": {
        "colab": {
          "base_uri": "https://localhost:8080/"
        },
        "id": "Znz0V3Nijt_e",
        "outputId": "c5707508-4f72-4c38-d73a-c4c3852dc942"
      },
      "execution_count": null,
      "outputs": [
        {
          "output_type": "stream",
          "name": "stderr",
          "text": [
            "/usr/local/lib/python3.10/dist-packages/keras/src/layers/convolutional/base_conv.py:107: UserWarning: Do not pass an `input_shape`/`input_dim` argument to a layer. When using Sequential models, prefer using an `Input(shape)` object as the first layer in the model instead.\n",
            "  super().__init__(activity_regularizer=activity_regularizer, **kwargs)\n"
          ]
        },
        {
          "output_type": "execute_result",
          "data": {
            "text/plain": [
              "(<MaxPooling2D name=max_pooling2d_2, built=False>,)"
            ]
          },
          "metadata": {},
          "execution_count": 39
        }
      ]
    },
    {
      "cell_type": "code",
      "source": [
        "# Learning part\n",
        "model.add(layers.Flatten())\n",
        "model.add(layers.Dense(64, activation='relu'))\n",
        "model.add(layers.Dense(10, activation='softmax'))"
      ],
      "metadata": {
        "id": "RBIWaQx9j5n4"
      },
      "execution_count": null,
      "outputs": []
    },
    {
      "cell_type": "code",
      "source": [
        "import tensorflow as tf\n",
        "# Model Compliation: Features\n",
        "model.compile(optimizer='adam',\n",
        "              loss=tf.keras.losses.SparseCategoricalCrossentropy(from_logits=True),\n",
        "              metrics=['accuracy'])"
      ],
      "metadata": {
        "id": "XMzVPygZj88i"
      },
      "execution_count": null,
      "outputs": []
    },
    {
      "cell_type": "code",
      "source": [
        "from sklearn.preprocessing import LabelEncoder\n",
        "from tensorflow import keras\n",
        "from keras.utils import to_categorical\n",
        "\n",
        "# Initialize LabelEncoder\n",
        "label_encoder = LabelEncoder()\n",
        "\n",
        "# Fit LabelEncoder on the labels and transform them to numerical labels\n",
        "train_labels_encoded = label_encoder.fit_transform(train_labels)\n",
        "test_labels_encoded = label_encoder.transform(test_labels)\n",
        "\n",
        "# Convert numerical labels to one-hot encoded format\n",
        "train_labels_one_hot = to_categorical(train_labels_encoded)\n",
        "test_labels_one_hot = to_categorical(test_labels_encoded)"
      ],
      "metadata": {
        "id": "PxeB83IIkLaw"
      },
      "execution_count": null,
      "outputs": []
    },
    {
      "cell_type": "markdown",
      "source": [
        "#**CNN Accuracy Results**"
      ],
      "metadata": {
        "id": "vuWKrJzNkfJM"
      }
    },
    {
      "cell_type": "code",
      "source": [
        "# Train the model and capture the training history\n",
        "history = model.fit(train_images, train_labels_encoded, epochs=15,\n",
        "                    validation_data=(test_images, test_labels_encoded))\n",
        "\n",
        "\n",
        "# Plotting the training and validation accuracies\n",
        "import matplotlib.pyplot as plt\n",
        "\n",
        "plt.plot(history.history['accuracy'], label='accuracy')\n",
        "plt.plot(history.history['val_accuracy'], label='val_accuracy')\n",
        "plt.xlabel('Epoch')\n",
        "plt.ylabel('Accuracy')\n",
        "plt.ylim([0.4, 1])\n",
        "plt.xlim([-1, 11])\n",
        "plt.legend(loc='lower right')\n",
        "plt.show()\n",
        "\n",
        "# Evaluate the model on the test data\n",
        "test_loss, test_acc = model.evaluate(test_images, test_labels_encoded, verbose=2)\n"
      ],
      "metadata": {
        "colab": {
          "base_uri": "https://localhost:8080/",
          "height": 1048
        },
        "id": "WwX0coh8kgKs",
        "outputId": "29175b20-15aa-46fc-ee44-4433d28ed240"
      },
      "execution_count": null,
      "outputs": [
        {
          "output_type": "stream",
          "name": "stdout",
          "text": [
            "Epoch 1/15\n"
          ]
        },
        {
          "output_type": "stream",
          "name": "stderr",
          "text": [
            "/usr/local/lib/python3.10/dist-packages/keras/src/backend/tensorflow/nn.py:635: UserWarning: \"`sparse_categorical_crossentropy` received `from_logits=True`, but the `output` argument was produced by a Softmax activation and thus does not represent logits. Was this intended?\n",
            "  output, from_logits = _get_logits(\n"
          ]
        },
        {
          "output_type": "stream",
          "name": "stdout",
          "text": [
            "\u001b[1m13/13\u001b[0m \u001b[32m━━━━━━━━━━━━━━━━━━━━\u001b[0m\u001b[37m\u001b[0m \u001b[1m4s\u001b[0m 133ms/step - accuracy: 0.4127 - loss: 1.9819 - val_accuracy: 0.8137 - val_loss: 1.3468\n",
            "Epoch 2/15\n",
            "\u001b[1m13/13\u001b[0m \u001b[32m━━━━━━━━━━━━━━━━━━━━\u001b[0m\u001b[37m\u001b[0m \u001b[1m2s\u001b[0m 96ms/step - accuracy: 0.9820 - loss: 1.0577 - val_accuracy: 0.8922 - val_loss: 0.9973\n",
            "Epoch 3/15\n",
            "\u001b[1m13/13\u001b[0m \u001b[32m━━━━━━━━━━━━━━━━━━━━\u001b[0m\u001b[37m\u001b[0m \u001b[1m2s\u001b[0m 67ms/step - accuracy: 1.0000 - loss: 0.6971 - val_accuracy: 0.9020 - val_loss: 0.7735\n",
            "Epoch 4/15\n",
            "\u001b[1m13/13\u001b[0m \u001b[32m━━━━━━━━━━━━━━━━━━━━\u001b[0m\u001b[37m\u001b[0m \u001b[1m1s\u001b[0m 78ms/step - accuracy: 1.0000 - loss: 0.4563 - val_accuracy: 0.9216 - val_loss: 0.6197\n",
            "Epoch 5/15\n",
            "\u001b[1m13/13\u001b[0m \u001b[32m━━━━━━━━━━━━━━━━━━━━\u001b[0m\u001b[37m\u001b[0m \u001b[1m1s\u001b[0m 77ms/step - accuracy: 1.0000 - loss: 0.3392 - val_accuracy: 0.9216 - val_loss: 0.5163\n",
            "Epoch 6/15\n",
            "\u001b[1m13/13\u001b[0m \u001b[32m━━━━━━━━━━━━━━━━━━━━\u001b[0m\u001b[37m\u001b[0m \u001b[1m1s\u001b[0m 66ms/step - accuracy: 1.0000 - loss: 0.2187 - val_accuracy: 0.9314 - val_loss: 0.4495\n",
            "Epoch 7/15\n",
            "\u001b[1m13/13\u001b[0m \u001b[32m━━━━━━━━━━━━━━━━━━━━\u001b[0m\u001b[37m\u001b[0m \u001b[1m1s\u001b[0m 65ms/step - accuracy: 1.0000 - loss: 0.1930 - val_accuracy: 0.9118 - val_loss: 0.4086\n",
            "Epoch 8/15\n",
            "\u001b[1m13/13\u001b[0m \u001b[32m━━━━━━━━━━━━━━━━━━━━\u001b[0m\u001b[37m\u001b[0m \u001b[1m1s\u001b[0m 63ms/step - accuracy: 1.0000 - loss: 0.1249 - val_accuracy: 0.9314 - val_loss: 0.3757\n",
            "Epoch 9/15\n",
            "\u001b[1m13/13\u001b[0m \u001b[32m━━━━━━━━━━━━━━━━━━━━\u001b[0m\u001b[37m\u001b[0m \u001b[1m1s\u001b[0m 64ms/step - accuracy: 1.0000 - loss: 0.1116 - val_accuracy: 0.9216 - val_loss: 0.3540\n",
            "Epoch 10/15\n",
            "\u001b[1m13/13\u001b[0m \u001b[32m━━━━━━━━━━━━━━━━━━━━\u001b[0m\u001b[37m\u001b[0m \u001b[1m2s\u001b[0m 84ms/step - accuracy: 1.0000 - loss: 0.0804 - val_accuracy: 0.9118 - val_loss: 0.3377\n",
            "Epoch 11/15\n",
            "\u001b[1m13/13\u001b[0m \u001b[32m━━━━━━━━━━━━━━━━━━━━\u001b[0m\u001b[37m\u001b[0m \u001b[1m1s\u001b[0m 93ms/step - accuracy: 1.0000 - loss: 0.0675 - val_accuracy: 0.9118 - val_loss: 0.3226\n",
            "Epoch 12/15\n",
            "\u001b[1m13/13\u001b[0m \u001b[32m━━━━━━━━━━━━━━━━━━━━\u001b[0m\u001b[37m\u001b[0m \u001b[1m1s\u001b[0m 84ms/step - accuracy: 1.0000 - loss: 0.0532 - val_accuracy: 0.9118 - val_loss: 0.3138\n",
            "Epoch 13/15\n",
            "\u001b[1m13/13\u001b[0m \u001b[32m━━━━━━━━━━━━━━━━━━━━\u001b[0m\u001b[37m\u001b[0m \u001b[1m1s\u001b[0m 90ms/step - accuracy: 1.0000 - loss: 0.0438 - val_accuracy: 0.9118 - val_loss: 0.3060\n",
            "Epoch 14/15\n",
            "\u001b[1m13/13\u001b[0m \u001b[32m━━━━━━━━━━━━━━━━━━━━\u001b[0m\u001b[37m\u001b[0m \u001b[1m1s\u001b[0m 100ms/step - accuracy: 1.0000 - loss: 0.0392 - val_accuracy: 0.9118 - val_loss: 0.2996\n",
            "Epoch 15/15\n",
            "\u001b[1m13/13\u001b[0m \u001b[32m━━━━━━━━━━━━━━━━━━━━\u001b[0m\u001b[37m\u001b[0m \u001b[1m1s\u001b[0m 89ms/step - accuracy: 1.0000 - loss: 0.0306 - val_accuracy: 0.9118 - val_loss: 0.2943\n"
          ]
        },
        {
          "output_type": "display_data",
          "data": {
            "text/plain": [
              "<Figure size 640x480 with 1 Axes>"
            ],
            "image/png": "[encoded data removed]"
          },
          "metadata": {}
        },
        {
          "output_type": "stream",
          "name": "stdout",
          "text": [
            "4/4 - 0s - 22ms/step - accuracy: 0.9118 - loss: 0.2943\n"
          ]
        }
      ]
    },
    {
      "cell_type": "markdown",
      "source": [
        "# **Predictions with the trained CNN.**"
      ],
      "metadata": {
        "id": "-uZlnZZwlbuo"
      }
    },
    {
      "cell_type": "code",
      "source": [
        "predictions = model.predict(test_images)"
      ],
      "metadata": {
        "colab": {
          "base_uri": "https://localhost:8080/"
        },
        "id": "Ae4XMrholaBv",
        "outputId": "d955e130-db78-42a1-cb5c-53f8ceb9af10"
      },
      "execution_count": null,
      "outputs": [
        {
          "output_type": "stream",
          "name": "stdout",
          "text": [
            "\u001b[1m4/4\u001b[0m \u001b[32m━━━━━━━━━━━━━━━━━━━━\u001b[0m\u001b[37m\u001b[0m \u001b[1m0s\u001b[0m 20ms/step\n"
          ]
        }
      ]
    },
    {
      "cell_type": "code",
      "source": [
        "x = predictions[1]\n",
        "y = test_labels[1]\n",
        "print(\"La red dice que la imagen es clase \" + str(x) + \" y la clase verdadera es: \" + y)"
      ],
      "metadata": {
        "colab": {
          "base_uri": "https://localhost:8080/"
        },
        "id": "VSBCypB_ljH2",
        "outputId": "cc30577b-6453-47cb-ef2a-ce4c1c7ef385"
      },
      "execution_count": null,
      "outputs": [
        {
          "output_type": "stream",
          "name": "stdout",
          "text": [
            "La red dice que la imagen es clase [1.2806157e-04 1.5346549e-04 1.5178043e-06 9.9971104e-01 3.9969177e-06\n",
            " 9.9826693e-08 3.5175177e-07 1.0223716e-06 1.8059757e-07 1.9332745e-07] y la clase verdadera es: 4. Soft Exudates\n"
          ]
        }
      ]
    },
    {
      "cell_type": "code",
      "source": [
        "x = predictions[50]\n",
        "y = test_labels[50]\n",
        "print(\"La red dice que la imagen es clase \" + str(x) + \" y la clase verdadera es: \" + y)"
      ],
      "metadata": {
        "colab": {
          "base_uri": "https://localhost:8080/"
        },
        "id": "7UCEbj-Wlq92",
        "outputId": "abe05235-47eb-410b-a5ca-4e18d53f9797"
      },
      "execution_count": null,
      "outputs": [
        {
          "output_type": "stream",
          "name": "stdout",
          "text": [
            "La red dice que la imagen es clase [8.59571737e-05 2.41676753e-05 5.71126520e-06 9.99872684e-01\n",
            " 8.50405650e-06 2.26734159e-07 5.66127483e-07 1.46426260e-06\n",
            " 1.07765345e-07 5.63151843e-07] y la clase verdadera es: 4. Soft Exudates\n"
          ]
        }
      ]
    },
    {
      "cell_type": "code",
      "source": [
        "x = predictions[8]\n",
        "y = test_labels[8]\n",
        "print(\"La red dice que la imagen es clase \" + str(x) + \" y la clase verdadera es: \" + y)"
      ],
      "metadata": {
        "colab": {
          "base_uri": "https://localhost:8080/"
        },
        "id": "OmYgWjtRlvCf",
        "outputId": "a794be20-0b83-495b-9426-694846001bc7"
      },
      "execution_count": null,
      "outputs": [
        {
          "output_type": "stream",
          "name": "stdout",
          "text": [
            "La red dice que la imagen es clase [3.5323293e-03 7.6792622e-04 9.2625525e-04 9.9273229e-01 6.3174119e-04\n",
            " 2.0174128e-04 1.7339201e-04 5.7358691e-04 2.0762700e-04 2.5294279e-04] y la clase verdadera es: 4. Soft Exudates\n"
          ]
        }
      ]
    },
    {
      "cell_type": "code",
      "source": [
        "x = predictions[32]\n",
        "y = test_labels[32]\n",
        "print(\"La red dice que la imagen es clase \" + str(x) + \" y la clase verdadera es: \" + y)"
      ],
      "metadata": {
        "colab": {
          "base_uri": "https://localhost:8080/"
        },
        "id": "GJjg_BqLlyBx",
        "outputId": "c8e1efb6-a388-4589-ae98-bc0f212b03d5"
      },
      "execution_count": null,
      "outputs": [
        {
          "output_type": "stream",
          "name": "stdout",
          "text": [
            "La red dice que la imagen es clase [5.8332432e-07 9.0905701e-07 8.1539078e-08 9.9999827e-01 6.4152270e-09\n",
            " 2.0612276e-10 2.1604611e-10 6.0895300e-10 2.3773186e-10 1.3234777e-10] y la clase verdadera es: 4. Soft Exudates\n"
          ]
        }
      ]
    },
    {
      "cell_type": "code",
      "source": [
        "x = predictions[29]\n",
        "y = test_labels[29]\n",
        "print(\"La red dice que la imagen es clase \" + str(x) + \" y la clase verdadera es: \" + y)"
      ],
      "metadata": {
        "colab": {
          "base_uri": "https://localhost:8080/"
        },
        "id": "lWe2NO4Yl8kM",
        "outputId": "dd7c61f7-ccfb-4b8b-ad95-2ff9f77b2175"
      },
      "execution_count": null,
      "outputs": [
        {
          "output_type": "stream",
          "name": "stdout",
          "text": [
            "La red dice que la imagen es clase [4.9223359e-05 9.9993461e-01 1.1937277e-05 3.1890759e-06 9.9243778e-07\n",
            " 1.6732140e-09 4.5419908e-09 8.2717104e-09 1.0956187e-08 2.1978637e-09] y la clase verdadera es: 2. Haemorrhages\n"
          ]
        }
      ]
    },
    {
      "cell_type": "code",
      "source": [
        "x = predictions[30]\n",
        "y = test_labels[30]\n",
        "print(\"La red dice que la imagen es clase \" + str(x) + \" y la clase verdadera es: \" + y)"
      ],
      "metadata": {
        "colab": {
          "base_uri": "https://localhost:8080/"
        },
        "id": "Pma0RrIIl-Az",
        "outputId": "1f79c116-4ae5-40ce-f922-8c811cd9c9bc"
      },
      "execution_count": null,
      "outputs": [
        {
          "output_type": "stream",
          "name": "stdout",
          "text": [
            "La red dice que la imagen es clase [4.6115938e-06 3.2736418e-06 7.5678901e-07 2.0597147e-07 9.9999112e-01\n",
            " 1.3664202e-10 1.7124271e-10 2.8136400e-09 9.4252739e-09 1.8633374e-10] y la clase verdadera es: 5. Optic Disc\n"
          ]
        }
      ]
    },
    {
      "cell_type": "code",
      "source": [
        "x = predictions[100]\n",
        "y = test_labels[100]\n",
        "print(\"La red dice que la imagen es clase \" + str(x) + \" y la clase verdadera es: \" + y)"
      ],
      "metadata": {
        "colab": {
          "base_uri": "https://localhost:8080/"
        },
        "id": "L7CJJP5rmJV_",
        "outputId": "d4357d25-fe1d-480c-de47-9154e6c8e4d8"
      },
      "execution_count": null,
      "outputs": [
        {
          "output_type": "stream",
          "name": "stdout",
          "text": [
            "La red dice que la imagen es clase [8.2480028e-06 2.7963512e-08 4.0534896e-06 3.3939573e-09 9.9998772e-01\n",
            " 1.6502459e-11 1.4457149e-11 3.2024111e-10 1.5795444e-09 3.0548512e-11] y la clase verdadera es: 5. Optic Disc\n"
          ]
        }
      ]
    },
    {
      "cell_type": "code",
      "source": [
        "x = predictions[49]\n",
        "y = test_labels[49]\n",
        "print(\"La red dice que la imagen es clase \" + str(x) + \" y la clase verdadera es: \" + y)"
      ],
      "metadata": {
        "colab": {
          "base_uri": "https://localhost:8080/"
        },
        "id": "OEGIp47RmOSJ",
        "outputId": "714321b3-829f-45c3-d3eb-5bf238766ca1"
      },
      "execution_count": null,
      "outputs": [
        {
          "output_type": "stream",
          "name": "stdout",
          "text": [
            "La red dice que la imagen es clase [4.4392799e-03 2.8669757e-03 9.8595029e-01 1.2359518e-03 1.5260068e-03\n",
            " 9.8676246e-04 6.4839236e-04 8.7615405e-04 9.1412215e-04 5.5591634e-04] y la clase verdadera es: 3. Hard Exudates\n"
          ]
        }
      ]
    },
    {
      "cell_type": "code",
      "source": [
        "import matplotlib.pyplot as plt\n",
        "\n",
        "# Indices of predictions to display\n",
        "indices = [1,50,8,32,29,30,100,49]\n",
        "\n",
        "# Assuming test_images contains the images\n",
        "images_to_show = [test_images[i] for i in indices]\n",
        "\n",
        "# Display the images\n",
        "plt.figure(figsize=(12, 8))\n",
        "for i, image in enumerate(images_to_show, 1):\n",
        "    plt.subplot(2, 5, i)\n",
        "    plt.imshow(image, cmap='gray')\n",
        "    plt.title(f\"Prediction {indices[i-1]}\")\n",
        "    plt.axis('off')\n",
        "\n",
        "plt.tight_layout()\n",
        "plt.show()"
      ],
      "metadata": {
        "colab": {
          "base_uri": "https://localhost:8080/",
          "height": 643
        },
        "id": "qCPQ68Btm8T_",
        "outputId": "28b890d6-b8d1-4899-8a47-d4b34d9c2bae"
      },
      "execution_count": null,
      "outputs": [
        {
          "output_type": "display_data",
          "data": {
            "text/plain": [
              "<Figure size 1200x800 with 8 Axes>"
            ],
            "image/png": "[encoded data removed]"
          },
          "metadata": {}
        }
      ]
    }
  ]
}